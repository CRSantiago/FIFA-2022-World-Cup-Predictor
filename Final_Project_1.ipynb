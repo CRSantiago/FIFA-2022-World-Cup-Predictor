{
 "cells": [
  {
   "cell_type": "markdown",
   "metadata": {},
   "source": [
    "# Predicting the 2022 FIFA World Cup\n",
    "<br>\n",
    "\n",
    "    \n",
    "#### Chris Santiago\n",
    "#### Satyar Foroughi\n",
    "#### Arshia Pessaran\n",
    "#### Jordan Hatfield"
   ]
  },
  {
   "cell_type": "code",
   "execution_count": 1,
   "metadata": {},
   "outputs": [],
   "source": [
    "import pandas as pd\n",
    "import numpy as np\n",
    "import random\n",
    "import matplotlib.pyplot as plt\n",
    "import seaborn as sns\n",
    "%matplotlib inline\n",
    "\n",
    "import warnings\n",
    "warnings.filterwarnings(\"ignore\")"
   ]
  },
  {
   "cell_type": "markdown",
   "metadata": {},
   "source": [
    "### Data Exploration and Limitations\n",
    "\n",
    "Before we make any predictions, let's explore the data. Throughout history, these are the teams that have performed best in the FIFA World Cup. "
   ]
  },
  {
   "cell_type": "code",
   "execution_count": 2,
   "metadata": {
    "scrolled": true
   },
   "outputs": [
    {
     "data": {
      "text/html": [
       "<div>\n",
       "<style scoped>\n",
       "    .dataframe tbody tr th:only-of-type {\n",
       "        vertical-align: middle;\n",
       "    }\n",
       "\n",
       "    .dataframe tbody tr th {\n",
       "        vertical-align: top;\n",
       "    }\n",
       "\n",
       "    .dataframe thead th {\n",
       "        text-align: right;\n",
       "    }\n",
       "</style>\n",
       "<table border=\"1\" class=\"dataframe\">\n",
       "  <thead>\n",
       "    <tr style=\"text-align: right;\">\n",
       "      <th></th>\n",
       "      <th>Winner</th>\n",
       "      <th>Runners-Up</th>\n",
       "      <th>Third</th>\n",
       "    </tr>\n",
       "  </thead>\n",
       "  <tbody>\n",
       "    <tr>\n",
       "      <th>Brazil</th>\n",
       "      <td>5</td>\n",
       "      <td>2</td>\n",
       "      <td>2</td>\n",
       "    </tr>\n",
       "    <tr>\n",
       "      <th>Italy</th>\n",
       "      <td>4</td>\n",
       "      <td>2</td>\n",
       "      <td>1</td>\n",
       "    </tr>\n",
       "    <tr>\n",
       "      <th>Germany FR</th>\n",
       "      <td>3</td>\n",
       "      <td>3</td>\n",
       "      <td>1</td>\n",
       "    </tr>\n",
       "    <tr>\n",
       "      <th>Uruguay</th>\n",
       "      <td>2</td>\n",
       "      <td>0</td>\n",
       "      <td>0</td>\n",
       "    </tr>\n",
       "    <tr>\n",
       "      <th>Argentina</th>\n",
       "      <td>2</td>\n",
       "      <td>3</td>\n",
       "      <td>0</td>\n",
       "    </tr>\n",
       "    <tr>\n",
       "      <th>Germany</th>\n",
       "      <td>1</td>\n",
       "      <td>1</td>\n",
       "      <td>3</td>\n",
       "    </tr>\n",
       "    <tr>\n",
       "      <th>England</th>\n",
       "      <td>1</td>\n",
       "      <td>0</td>\n",
       "      <td>0</td>\n",
       "    </tr>\n",
       "    <tr>\n",
       "      <th>France</th>\n",
       "      <td>1</td>\n",
       "      <td>1</td>\n",
       "      <td>2</td>\n",
       "    </tr>\n",
       "    <tr>\n",
       "      <th>Spain</th>\n",
       "      <td>1</td>\n",
       "      <td>0</td>\n",
       "      <td>0</td>\n",
       "    </tr>\n",
       "    <tr>\n",
       "      <th>Netherlands</th>\n",
       "      <td>0</td>\n",
       "      <td>3</td>\n",
       "      <td>1</td>\n",
       "    </tr>\n",
       "    <tr>\n",
       "      <th>Czechoslovakia</th>\n",
       "      <td>0</td>\n",
       "      <td>2</td>\n",
       "      <td>0</td>\n",
       "    </tr>\n",
       "    <tr>\n",
       "      <th>Hungary</th>\n",
       "      <td>0</td>\n",
       "      <td>2</td>\n",
       "      <td>0</td>\n",
       "    </tr>\n",
       "    <tr>\n",
       "      <th>Sweden</th>\n",
       "      <td>0</td>\n",
       "      <td>1</td>\n",
       "      <td>2</td>\n",
       "    </tr>\n",
       "    <tr>\n",
       "      <th>Poland</th>\n",
       "      <td>0</td>\n",
       "      <td>0</td>\n",
       "      <td>2</td>\n",
       "    </tr>\n",
       "    <tr>\n",
       "      <th>Chile</th>\n",
       "      <td>0</td>\n",
       "      <td>0</td>\n",
       "      <td>1</td>\n",
       "    </tr>\n",
       "    <tr>\n",
       "      <th>Croatia</th>\n",
       "      <td>0</td>\n",
       "      <td>0</td>\n",
       "      <td>1</td>\n",
       "    </tr>\n",
       "    <tr>\n",
       "      <th>Portugal</th>\n",
       "      <td>0</td>\n",
       "      <td>0</td>\n",
       "      <td>1</td>\n",
       "    </tr>\n",
       "    <tr>\n",
       "      <th>Turkey</th>\n",
       "      <td>0</td>\n",
       "      <td>0</td>\n",
       "      <td>1</td>\n",
       "    </tr>\n",
       "    <tr>\n",
       "      <th>Austria</th>\n",
       "      <td>0</td>\n",
       "      <td>0</td>\n",
       "      <td>1</td>\n",
       "    </tr>\n",
       "    <tr>\n",
       "      <th>USA</th>\n",
       "      <td>0</td>\n",
       "      <td>0</td>\n",
       "      <td>1</td>\n",
       "    </tr>\n",
       "  </tbody>\n",
       "</table>\n",
       "</div>"
      ],
      "text/plain": [
       "                Winner  Runners-Up  Third\n",
       "Brazil               5           2      2\n",
       "Italy                4           2      1\n",
       "Germany FR           3           3      1\n",
       "Uruguay              2           0      0\n",
       "Argentina            2           3      0\n",
       "Germany              1           1      3\n",
       "England              1           0      0\n",
       "France               1           1      2\n",
       "Spain                1           0      0\n",
       "Netherlands          0           3      1\n",
       "Czechoslovakia       0           2      0\n",
       "Hungary              0           2      0\n",
       "Sweden               0           1      2\n",
       "Poland               0           0      2\n",
       "Chile                0           0      1\n",
       "Croatia              0           0      1\n",
       "Portugal             0           0      1\n",
       "Turkey               0           0      1\n",
       "Austria              0           0      1\n",
       "USA                  0           0      1"
      ]
     },
     "execution_count": 2,
     "metadata": {},
     "output_type": "execute_result"
    }
   ],
   "source": [
    "world_cups_df = pd.read_csv('WorldCups.csv')\n",
    "\n",
    "winners_ser = world_cups_df['Winner'].value_counts()\n",
    "runnersup_ser = world_cups_df['Runners-Up'].value_counts()\n",
    "thirdplace_ser = world_cups_df['Third'].value_counts()\n",
    "\n",
    "country_placers_df = pd.concat([winners_ser, runnersup_ser, thirdplace_ser], axis=1)\n",
    "country_placers_df.fillna(0, inplace=True)\n",
    "country_placers_df = country_placers_df.astype(int)\n",
    "country_placers_df"
   ]
  },
  {
   "cell_type": "markdown",
   "metadata": {},
   "source": [
    "We can easily discern from the graph that Brazil has consistently performed the best out of all teams, followed by Italy and Germany (including the period of the German Federal Republic)."
   ]
  },
  {
   "cell_type": "code",
   "execution_count": 3,
   "metadata": {
    "scrolled": true
   },
   "outputs": [
    {
     "data": {
      "image/png": "[encoded data removed]",
      "text/plain": [
       "<Figure size 1152x576 with 1 Axes>"
      ]
     },
     "metadata": {
      "needs_background": "light"
     },
     "output_type": "display_data"
    }
   ],
   "source": [
    "country_placers_df.plot(kind='bar', figsize=(16,8), color=['gold', 'silver', 'brown'])\n",
    "plt.xlabel(\"Countries\")\n",
    "plt.ylabel(\"Number of podium\")\n",
    "plt.title(\"Number of Podium by Country\");"
   ]
  },
  {
   "cell_type": "markdown",
   "metadata": {},
   "source": [
    "The limitation here is the world cup data isn't sufficient. Teams play a multitude of matches across years between world cups. We are therefore missing out on valuable data.\n",
    "\n",
    "We found a more appropriate dataset, which includes 44,150 results of international football matches starting from the very first official match in 1872 up to 2022. The matches range from FIFA World Cup to FIFI Wild Cup to regular friendly matches.\n",
    "\n",
    "Using this new dataset, the graph below illustrates the distribution of games played by match type.\n",
    "\n",
    "### Variable Descriptions\n",
    "* date - date of the match\n",
    "* home_team - the name of the home team\n",
    "* away_team - the name of the away team\n",
    "* home_score - full-time home team score including extra time, not including penalty-shootouts\n",
    "* away_score - full-time away team score including extra time, not including penalty-shootouts\n",
    "* tournament - the name of the tournament\n",
    "* city - the name of the city/town/administrative unit where the match was played\n",
    "* country - the name of the country where the match was played\n",
    "* neutral - TRUE/FALSE column indicating whether the match was played at a neutral venue"
   ]
  },
  {
   "cell_type": "code",
   "execution_count": 4,
   "metadata": {
    "scrolled": false
   },
   "outputs": [
    {
     "data": {
      "text/html": [
       "<div>\n",
       "<style scoped>\n",
       "    .dataframe tbody tr th:only-of-type {\n",
       "        vertical-align: middle;\n",
       "    }\n",
       "\n",
       "    .dataframe tbody tr th {\n",
       "        vertical-align: top;\n",
       "    }\n",
       "\n",
       "    .dataframe thead th {\n",
       "        text-align: right;\n",
       "    }\n",
       "</style>\n",
       "<table border=\"1\" class=\"dataframe\">\n",
       "  <thead>\n",
       "    <tr style=\"text-align: right;\">\n",
       "      <th></th>\n",
       "      <th>date</th>\n",
       "      <th>team1</th>\n",
       "      <th>team2</th>\n",
       "      <th>team1_score</th>\n",
       "      <th>team2_score</th>\n",
       "      <th>tournament</th>\n",
       "      <th>city</th>\n",
       "      <th>country</th>\n",
       "      <th>neutral</th>\n",
       "    </tr>\n",
       "  </thead>\n",
       "  <tbody>\n",
       "    <tr>\n",
       "      <th>0</th>\n",
       "      <td>1872-11-30</td>\n",
       "      <td>Scotland</td>\n",
       "      <td>England</td>\n",
       "      <td>0.0</td>\n",
       "      <td>0.0</td>\n",
       "      <td>Friendly</td>\n",
       "      <td>Glasgow</td>\n",
       "      <td>Scotland</td>\n",
       "      <td>False</td>\n",
       "    </tr>\n",
       "    <tr>\n",
       "      <th>1</th>\n",
       "      <td>1873-03-08</td>\n",
       "      <td>England</td>\n",
       "      <td>Scotland</td>\n",
       "      <td>4.0</td>\n",
       "      <td>2.0</td>\n",
       "      <td>Friendly</td>\n",
       "      <td>London</td>\n",
       "      <td>England</td>\n",
       "      <td>False</td>\n",
       "    </tr>\n",
       "    <tr>\n",
       "      <th>2</th>\n",
       "      <td>1874-03-07</td>\n",
       "      <td>Scotland</td>\n",
       "      <td>England</td>\n",
       "      <td>2.0</td>\n",
       "      <td>1.0</td>\n",
       "      <td>Friendly</td>\n",
       "      <td>Glasgow</td>\n",
       "      <td>Scotland</td>\n",
       "      <td>False</td>\n",
       "    </tr>\n",
       "    <tr>\n",
       "      <th>3</th>\n",
       "      <td>1875-03-06</td>\n",
       "      <td>England</td>\n",
       "      <td>Scotland</td>\n",
       "      <td>2.0</td>\n",
       "      <td>2.0</td>\n",
       "      <td>Friendly</td>\n",
       "      <td>London</td>\n",
       "      <td>England</td>\n",
       "      <td>False</td>\n",
       "    </tr>\n",
       "    <tr>\n",
       "      <th>4</th>\n",
       "      <td>1876-03-04</td>\n",
       "      <td>Scotland</td>\n",
       "      <td>England</td>\n",
       "      <td>3.0</td>\n",
       "      <td>0.0</td>\n",
       "      <td>Friendly</td>\n",
       "      <td>Glasgow</td>\n",
       "      <td>Scotland</td>\n",
       "      <td>False</td>\n",
       "    </tr>\n",
       "  </tbody>\n",
       "</table>\n",
       "</div>"
      ],
      "text/plain": [
       "         date     team1     team2  team1_score  team2_score tournament  \\\n",
       "0  1872-11-30  Scotland   England          0.0          0.0   Friendly   \n",
       "1  1873-03-08   England  Scotland          4.0          2.0   Friendly   \n",
       "2  1874-03-07  Scotland   England          2.0          1.0   Friendly   \n",
       "3  1875-03-06   England  Scotland          2.0          2.0   Friendly   \n",
       "4  1876-03-04  Scotland   England          3.0          0.0   Friendly   \n",
       "\n",
       "      city   country  neutral  \n",
       "0  Glasgow  Scotland    False  \n",
       "1   London   England    False  \n",
       "2  Glasgow  Scotland    False  \n",
       "3   London   England    False  \n",
       "4  Glasgow  Scotland    False  "
      ]
     },
     "execution_count": 4,
     "metadata": {},
     "output_type": "execute_result"
    }
   ],
   "source": [
    "df = pd.read_csv(\"results.csv\")\n",
    "# home_team and away_team were changed to team1 and team2 for simplification.\n",
    "df = df.rename(columns={\"home_team\":\"team1\", \"away_team\":\"team2\", \"home_score\":\"team1_score\",\n",
    "                        \"away_score\":\"team2_score\"})\n",
    "df.head()"
   ]
  },
  {
   "cell_type": "markdown",
   "metadata": {},
   "source": [
    "Another limitation we encountered was some games ended in a draw in later rounds of the World Cup. \n",
    "In the real world, the game would be determined by penalty shootouts. Instead of choosing a winner at random, we used a dataset containing all the penalty shootouts. We'll explain more about this later."
   ]
  },
  {
   "cell_type": "code",
   "execution_count": 5,
   "metadata": {},
   "outputs": [
    {
     "data": {
      "text/html": [
       "<div>\n",
       "<style scoped>\n",
       "    .dataframe tbody tr th:only-of-type {\n",
       "        vertical-align: middle;\n",
       "    }\n",
       "\n",
       "    .dataframe tbody tr th {\n",
       "        vertical-align: top;\n",
       "    }\n",
       "\n",
       "    .dataframe thead th {\n",
       "        text-align: right;\n",
       "    }\n",
       "</style>\n",
       "<table border=\"1\" class=\"dataframe\">\n",
       "  <thead>\n",
       "    <tr style=\"text-align: right;\">\n",
       "      <th></th>\n",
       "      <th>date</th>\n",
       "      <th>team1</th>\n",
       "      <th>team2</th>\n",
       "      <th>winner</th>\n",
       "    </tr>\n",
       "  </thead>\n",
       "  <tbody>\n",
       "    <tr>\n",
       "      <th>0</th>\n",
       "      <td>1967-08-22</td>\n",
       "      <td>India</td>\n",
       "      <td>Taiwan</td>\n",
       "      <td>Taiwan</td>\n",
       "    </tr>\n",
       "    <tr>\n",
       "      <th>1</th>\n",
       "      <td>1971-11-14</td>\n",
       "      <td>South Korea</td>\n",
       "      <td>Vietnam Republic</td>\n",
       "      <td>South Korea</td>\n",
       "    </tr>\n",
       "    <tr>\n",
       "      <th>2</th>\n",
       "      <td>1972-05-17</td>\n",
       "      <td>Thailand</td>\n",
       "      <td>South Korea</td>\n",
       "      <td>South Korea</td>\n",
       "    </tr>\n",
       "    <tr>\n",
       "      <th>3</th>\n",
       "      <td>1972-05-19</td>\n",
       "      <td>Thailand</td>\n",
       "      <td>Cambodia</td>\n",
       "      <td>Thailand</td>\n",
       "    </tr>\n",
       "    <tr>\n",
       "      <th>4</th>\n",
       "      <td>1973-04-21</td>\n",
       "      <td>Senegal</td>\n",
       "      <td>Ghana</td>\n",
       "      <td>Ghana</td>\n",
       "    </tr>\n",
       "  </tbody>\n",
       "</table>\n",
       "</div>"
      ],
      "text/plain": [
       "         date        team1             team2       winner\n",
       "0  1967-08-22        India            Taiwan       Taiwan\n",
       "1  1971-11-14  South Korea  Vietnam Republic  South Korea\n",
       "2  1972-05-17     Thailand       South Korea  South Korea\n",
       "3  1972-05-19     Thailand          Cambodia     Thailand\n",
       "4  1973-04-21      Senegal             Ghana        Ghana"
      ]
     },
     "execution_count": 5,
     "metadata": {},
     "output_type": "execute_result"
    }
   ],
   "source": [
    "penalties = pd.read_csv(\"shootouts.csv\")\n",
    "penalties = penalties.rename(columns={\"home_team\":\"team1\", \"away_team\":\"team2\"})\n",
    "penalties.head()"
   ]
  },
  {
   "cell_type": "code",
   "execution_count": 6,
   "metadata": {
    "scrolled": true
   },
   "outputs": [
    {
     "data": {
      "text/plain": [
       "date            0\n",
       "team1           0\n",
       "team2           0\n",
       "team1_score    48\n",
       "team2_score    48\n",
       "tournament      0\n",
       "city            0\n",
       "country         0\n",
       "neutral         0\n",
       "dtype: int64"
      ]
     },
     "execution_count": 6,
     "metadata": {},
     "output_type": "execute_result"
    }
   ],
   "source": [
    "# checking for any missing values in the columns\n",
    "df.isnull().sum()"
   ]
  },
  {
   "cell_type": "code",
   "execution_count": 7,
   "metadata": {},
   "outputs": [],
   "source": [
    "df = df.dropna()"
   ]
  },
  {
   "cell_type": "code",
   "execution_count": 8,
   "metadata": {},
   "outputs": [
    {
     "data": {
      "text/plain": [
       "date           0\n",
       "team1          0\n",
       "team2          0\n",
       "team1_score    0\n",
       "team2_score    0\n",
       "tournament     0\n",
       "city           0\n",
       "country        0\n",
       "neutral        0\n",
       "dtype: int64"
      ]
     },
     "execution_count": 8,
     "metadata": {},
     "output_type": "execute_result"
    }
   ],
   "source": [
    "df.isnull().sum()"
   ]
  },
  {
   "cell_type": "markdown",
   "metadata": {},
   "source": [
    "To see how our data is distributed, we made a graph to illustrate the types of matches and how many were played in each category."
   ]
  },
  {
   "cell_type": "code",
   "execution_count": 9,
   "metadata": {},
   "outputs": [
    {
     "data": {
      "image/png": "[encoded data removed]",
      "text/plain": [
       "<Figure size 1008x432 with 1 Axes>"
      ]
     },
     "metadata": {
      "needs_background": "light"
     },
     "output_type": "display_data"
    }
   ],
   "source": [
    "match_types = 10\n",
    "axis = df.tournament.value_counts()[:match_types].sort_values()\n",
    "value = axis.values\n",
    "label = axis.index\n",
    "\n",
    "plt.figure(figsize=(14,6))\n",
    "plt.barh(y=label, width=value, edgecolor=\"r\")\n",
    "for i in range(match_types):\n",
    "    plt.text(x=50,y=i-0.1,s=value[i],color=\"w\",fontsize=12)\n",
    "plt.show()"
   ]
  },
  {
   "cell_type": "markdown",
   "metadata": {},
   "source": [
    "Initially, we wanted to exclude Friendly games since team performance more volatile when it is a high pressure match. However, we can notice in the graph that the majority of the data consists of Friendly matches, and we didn't want to remove such a significant sample of the data.\n",
    "\n",
    " <br>\n",
    "  <br>\n",
    "These are the teams that qualified for the World Cup and the respective groups they were placed in."
   ]
  },
  {
   "cell_type": "code",
   "execution_count": 10,
   "metadata": {},
   "outputs": [],
   "source": [
    "qualifiers = [\"Qatar\",\"Ecuador\",\"Senegal\",\"Netherlands\",\"England\",\"Iran\",\"United States\",\"Wales\",\n",
    "              \"Argentina\",\"Saudi Arabia\",\"Mexico\",\"Poland\",\"France\",\"Australia\",\"Denmark\",\"Tunisia\",\n",
    "              \"Spain\",\"Costa Rica\",\"Germany\",\"Japan\",\"Belgium\",\"Canada\",\"Morocco\",\"Croatia\",\n",
    "              \"Brazil\",\"Serbia\",\"Switzerland\",\"Cameroon\",\"Portugal\",\"Ghana\",\"Uruguay\",\"South Korea\"]\n",
    "\n",
    "Group_A= [\"Qatar\",\"Ecuador\",\"Senegal\",\"Netherlands\"]\n",
    "Group_B= [\"England\",\"Iran\",\"United States\",\"Wales\"]\n",
    "Group_C= [\"Argentina\",\"Saudi Arabia\",\"Mexico\",\"Poland\"]\n",
    "Group_D= [\"France\",\"Australia\",\"Denmark\",\"Tunisia\"]\n",
    "Group_E= [\"Spain\",\"Costa Rica\",\"Germany\",\"Japan\"]\n",
    "Group_F= [\"Belgium\",\"Canada\",\"Morocco\",\"Croatia\"]\n",
    "Group_G= [\"Brazil\",\"Serbia\",\"Switzerland\",\"Cameroon\"]\n",
    "Group_H= [\"Portugal\",\"Ghana\",\"Uruguay\",\"South Korea\"]\n",
    "Groups={\"Group A\":Group_A,\"Group B\":Group_B,\"Group C\":Group_C,\"Group D\":Group_D,\"Group E\":Group_E,\n",
    "        \"Group F\":Group_F,\"Group G\":Group_G,\"Group H\":Group_H}"
   ]
  },
  {
   "cell_type": "markdown",
   "metadata": {},
   "source": [
    "## Preprocessing"
   ]
  },
  {
   "cell_type": "markdown",
   "metadata": {},
   "source": [
    "We tried out the process with two different dataframes, one with only qualified teams, and the other with at least one qualified team.\n",
    "\n",
    "However, in this presentation we will proceed with only the main dataframe."
   ]
  },
  {
   "cell_type": "code",
   "execution_count": 11,
   "metadata": {},
   "outputs": [],
   "source": [
    "# Limiting this dataframe to games where both of the teams playing\n",
    "# have qualified for the 2022 World Cup.\n",
    "df_q = df.copy()\n",
    "df_q = df[df[\"team1\"].isin(qualifiers) & df[\"team2\"].isin(qualifiers)]\n",
    "\n",
    "# Limiting the main dataframe to games where at least one of the teams playing\n",
    "# has qualified for the 2022 World Cup.\n",
    "df = df[df[\"team1\"].isin(qualifiers) | df[\"team2\"].isin(qualifiers)]"
   ]
  },
  {
   "cell_type": "markdown",
   "metadata": {},
   "source": [
    "With mind of dimensionality, we will drop fields that are mainly categorical, and not specific to World Cup results."
   ]
  },
  {
   "cell_type": "code",
   "execution_count": 12,
   "metadata": {},
   "outputs": [],
   "source": [
    "# Getting rid of columns we don't need\n",
    "df = df.drop([\"city\",\"country\",\"neutral\",\"tournament\"], axis=1)\n",
    "df_q = df_q.drop([\"city\",\"country\",\"neutral\",\"tournament\"], axis=1)"
   ]
  },
  {
   "cell_type": "markdown",
   "metadata": {},
   "source": [
    "Taking a look at the characteristics of the target variables."
   ]
  },
  {
   "cell_type": "code",
   "execution_count": 13,
   "metadata": {},
   "outputs": [
    {
     "data": {
      "text/html": [
       "<div>\n",
       "<style scoped>\n",
       "    .dataframe tbody tr th:only-of-type {\n",
       "        vertical-align: middle;\n",
       "    }\n",
       "\n",
       "    .dataframe tbody tr th {\n",
       "        vertical-align: top;\n",
       "    }\n",
       "\n",
       "    .dataframe thead th {\n",
       "        text-align: right;\n",
       "    }\n",
       "</style>\n",
       "<table border=\"1\" class=\"dataframe\">\n",
       "  <thead>\n",
       "    <tr style=\"text-align: right;\">\n",
       "      <th></th>\n",
       "      <th>team1_score</th>\n",
       "      <th>team2_score</th>\n",
       "    </tr>\n",
       "  </thead>\n",
       "  <tbody>\n",
       "    <tr>\n",
       "      <th>min</th>\n",
       "      <td>0.000000</td>\n",
       "      <td>0.000000</td>\n",
       "    </tr>\n",
       "    <tr>\n",
       "      <th>mean</th>\n",
       "      <td>1.715248</td>\n",
       "      <td>1.172533</td>\n",
       "    </tr>\n",
       "    <tr>\n",
       "      <th>median</th>\n",
       "      <td>1.000000</td>\n",
       "      <td>1.000000</td>\n",
       "    </tr>\n",
       "    <tr>\n",
       "      <th>var</th>\n",
       "      <td>2.835309</td>\n",
       "      <td>1.782380</td>\n",
       "    </tr>\n",
       "    <tr>\n",
       "      <th>std</th>\n",
       "      <td>1.683838</td>\n",
       "      <td>1.335058</td>\n",
       "    </tr>\n",
       "    <tr>\n",
       "      <th>max</th>\n",
       "      <td>31.000000</td>\n",
       "      <td>17.000000</td>\n",
       "    </tr>\n",
       "    <tr>\n",
       "      <th>skew</th>\n",
       "      <td>2.012296</td>\n",
       "      <td>1.920391</td>\n",
       "    </tr>\n",
       "  </tbody>\n",
       "</table>\n",
       "</div>"
      ],
      "text/plain": [
       "        team1_score  team2_score\n",
       "min        0.000000     0.000000\n",
       "mean       1.715248     1.172533\n",
       "median     1.000000     1.000000\n",
       "var        2.835309     1.782380\n",
       "std        1.683838     1.335058\n",
       "max       31.000000    17.000000\n",
       "skew       2.012296     1.920391"
      ]
     },
     "execution_count": 13,
     "metadata": {},
     "output_type": "execute_result"
    }
   ],
   "source": [
    "df.agg(\n",
    "    {\n",
    "        \"team1_score\": [\"min\", \"mean\", \"median\", \"var\", \"std\", \"max\", \"skew\"],\n",
    "        \"team2_score\": [\"min\", \"mean\", \"median\", \"var\", \"std\", \"max\", \"skew\"],\n",
    "    }\n",
    ")"
   ]
  },
  {
   "cell_type": "markdown",
   "metadata": {},
   "source": [
    "Looking at the max values for the scores, we notice some outliers. \n",
    "<br>\n",
    "\n",
    "The record for most goals by one team in a world cup is 13, so we will get rid of any scores above that."
   ]
  },
  {
   "cell_type": "code",
   "execution_count": 14,
   "metadata": {},
   "outputs": [
    {
     "data": {
      "text/html": [
       "<div>\n",
       "<style scoped>\n",
       "    .dataframe tbody tr th:only-of-type {\n",
       "        vertical-align: middle;\n",
       "    }\n",
       "\n",
       "    .dataframe tbody tr th {\n",
       "        vertical-align: top;\n",
       "    }\n",
       "\n",
       "    .dataframe thead th {\n",
       "        text-align: right;\n",
       "    }\n",
       "</style>\n",
       "<table border=\"1\" class=\"dataframe\">\n",
       "  <thead>\n",
       "    <tr style=\"text-align: right;\">\n",
       "      <th></th>\n",
       "      <th>team1_score</th>\n",
       "      <th>team2_score</th>\n",
       "    </tr>\n",
       "  </thead>\n",
       "  <tbody>\n",
       "    <tr>\n",
       "      <th>min</th>\n",
       "      <td>0.000000</td>\n",
       "      <td>0.000000</td>\n",
       "    </tr>\n",
       "    <tr>\n",
       "      <th>mean</th>\n",
       "      <td>1.703772</td>\n",
       "      <td>1.169697</td>\n",
       "    </tr>\n",
       "    <tr>\n",
       "      <th>median</th>\n",
       "      <td>1.000000</td>\n",
       "      <td>1.000000</td>\n",
       "    </tr>\n",
       "    <tr>\n",
       "      <th>var</th>\n",
       "      <td>2.650211</td>\n",
       "      <td>1.736850</td>\n",
       "    </tr>\n",
       "    <tr>\n",
       "      <th>std</th>\n",
       "      <td>1.627947</td>\n",
       "      <td>1.317896</td>\n",
       "    </tr>\n",
       "    <tr>\n",
       "      <th>max</th>\n",
       "      <td>12.000000</td>\n",
       "      <td>12.000000</td>\n",
       "    </tr>\n",
       "    <tr>\n",
       "      <th>skew</th>\n",
       "      <td>1.460993</td>\n",
       "      <td>1.732600</td>\n",
       "    </tr>\n",
       "  </tbody>\n",
       "</table>\n",
       "</div>"
      ],
      "text/plain": [
       "        team1_score  team2_score\n",
       "min        0.000000     0.000000\n",
       "mean       1.703772     1.169697\n",
       "median     1.000000     1.000000\n",
       "var        2.650211     1.736850\n",
       "std        1.627947     1.317896\n",
       "max       12.000000    12.000000\n",
       "skew       1.460993     1.732600"
      ]
     },
     "execution_count": 14,
     "metadata": {},
     "output_type": "execute_result"
    }
   ],
   "source": [
    "record=13\n",
    "df=df[(df[\"team1_score\"]<record) & (df[\"team2_score\"]<record)]\n",
    "\n",
    "# same for \"only qualifiers\" data frame\n",
    "df_q=df_q[(df_q[\"team1_score\"]<record) & (df_q[\"team2_score\"]<record)]\n",
    "\n",
    "df.agg(\n",
    "    {\n",
    "        \"team1_score\": [\"min\", \"mean\", \"median\", \"var\", \"std\", \"max\", \"skew\"],\n",
    "        \"team2_score\": [\"min\", \"mean\", \"median\", \"var\", \"std\", \"max\", \"skew\"],\n",
    "    }\n",
    ")"
   ]
  },
  {
   "cell_type": "markdown",
   "metadata": {},
   "source": [
    "Before we continue, we will double the dataset by switching team1 and team2, and adding a new match to the dataframe. This is due to the fact that our dataset had \"home\" and \"away\" teams which shouldn't matter to our model when predicting the world scores. \n",
    "\n",
    "For every game that a team played a home match, we wanted the same match as an away team. For example, if there is match between a England as team1 and USA as team2, we would now have same match with USA as team1 and England as team2.\n",
    "\n",
    "The following table shows that the team1 and team2 scores are now equivalently distributed, which is what we wanted. Before preprocessing, we had approx. 44,000 observations, and then we filtered it down to approx. 18,500 observations. Our final dataset includes approx. 37,000 observations."
   ]
  },
  {
   "cell_type": "code",
   "execution_count": 15,
   "metadata": {},
   "outputs": [
    {
     "data": {
      "text/html": [
       "<div>\n",
       "<style scoped>\n",
       "    .dataframe tbody tr th:only-of-type {\n",
       "        vertical-align: middle;\n",
       "    }\n",
       "\n",
       "    .dataframe tbody tr th {\n",
       "        vertical-align: top;\n",
       "    }\n",
       "\n",
       "    .dataframe thead th {\n",
       "        text-align: right;\n",
       "    }\n",
       "</style>\n",
       "<table border=\"1\" class=\"dataframe\">\n",
       "  <thead>\n",
       "    <tr style=\"text-align: right;\">\n",
       "      <th></th>\n",
       "      <th>year</th>\n",
       "      <th>team1_score</th>\n",
       "      <th>team2_score</th>\n",
       "    </tr>\n",
       "  </thead>\n",
       "  <tbody>\n",
       "    <tr>\n",
       "      <th>count</th>\n",
       "      <td>37066.000000</td>\n",
       "      <td>37066.000000</td>\n",
       "      <td>37066.000000</td>\n",
       "    </tr>\n",
       "    <tr>\n",
       "      <th>mean</th>\n",
       "      <td>1987.590083</td>\n",
       "      <td>1.436734</td>\n",
       "      <td>1.436734</td>\n",
       "    </tr>\n",
       "    <tr>\n",
       "      <th>std</th>\n",
       "      <td>26.966751</td>\n",
       "      <td>1.504919</td>\n",
       "      <td>1.504919</td>\n",
       "    </tr>\n",
       "    <tr>\n",
       "      <th>min</th>\n",
       "      <td>1872.000000</td>\n",
       "      <td>0.000000</td>\n",
       "      <td>0.000000</td>\n",
       "    </tr>\n",
       "    <tr>\n",
       "      <th>25%</th>\n",
       "      <td>1973.000000</td>\n",
       "      <td>0.000000</td>\n",
       "      <td>0.000000</td>\n",
       "    </tr>\n",
       "    <tr>\n",
       "      <th>50%</th>\n",
       "      <td>1994.000000</td>\n",
       "      <td>1.000000</td>\n",
       "      <td>1.000000</td>\n",
       "    </tr>\n",
       "    <tr>\n",
       "      <th>75%</th>\n",
       "      <td>2008.000000</td>\n",
       "      <td>2.000000</td>\n",
       "      <td>2.000000</td>\n",
       "    </tr>\n",
       "    <tr>\n",
       "      <th>max</th>\n",
       "      <td>2022.000000</td>\n",
       "      <td>12.000000</td>\n",
       "      <td>12.000000</td>\n",
       "    </tr>\n",
       "  </tbody>\n",
       "</table>\n",
       "</div>"
      ],
      "text/plain": [
       "               year   team1_score   team2_score\n",
       "count  37066.000000  37066.000000  37066.000000\n",
       "mean    1987.590083      1.436734      1.436734\n",
       "std       26.966751      1.504919      1.504919\n",
       "min     1872.000000      0.000000      0.000000\n",
       "25%     1973.000000      0.000000      0.000000\n",
       "50%     1994.000000      1.000000      1.000000\n",
       "75%     2008.000000      2.000000      2.000000\n",
       "max     2022.000000     12.000000     12.000000"
      ]
     },
     "execution_count": 15,
     "metadata": {},
     "output_type": "execute_result"
    }
   ],
   "source": [
    "df2 = df.copy()\n",
    "df2[\"team1\"] = df[\"team2\"]\n",
    "df2[\"team2\"] = df[\"team1\"]\n",
    "df2[\"team1_score\"] = df[\"team2_score\"]\n",
    "df2[\"team2_score\"] = df[\"team1_score\"]\n",
    "\n",
    "# qualified only\n",
    "df2_q = df_q.copy()\n",
    "df2_q[\"team1\"] = df_q[\"team2\"]\n",
    "df2_q[\"team2\"] = df_q[\"team1\"]\n",
    "df2_q[\"team1_score\"] = df_q[\"team2_score\"]\n",
    "df2_q[\"team2_score\"] = df_q[\"team1_score\"]\n",
    "\n",
    "# Now, we will merge our two dataframes and shuffle the new df to use for machine learning\n",
    "df_ml = pd.concat([df,df2], axis=0)\n",
    "df_ml = df_ml.sample(frac=1,random_state=1).reset_index(drop=True)\n",
    "\n",
    "# qualified only\n",
    "df_ml_q = pd.concat([df_q,df2_q], axis=0)\n",
    "df_ml_q = df_ml_q.sample(frac=1,random_state=1).reset_index(drop=True)\n",
    "\n",
    "df_ml[\"date\"] = pd.DatetimeIndex(df_ml[\"date\"]).year\n",
    "df_ml = df_ml.rename(columns={\"date\":\"year\"})\n",
    "\n",
    "df_ml_q[\"date\"] = pd.DatetimeIndex(df_ml_q[\"date\"]).year\n",
    "df_ml_q = df_ml_q.rename(columns={\"date\":\"year\"})\n",
    "\n",
    "df_ml.describe()"
   ]
  },
  {
   "cell_type": "markdown",
   "metadata": {},
   "source": [
    "This graph shows how many matches we have for each team. \n",
    "\n",
    "We can see that our dataset isn't perfect since we have a lot of observations for some teams and much less for others. For example, England has a significantly larger amount of matches compared Serbia, but there is a reasonable amount for each team."
   ]
  },
  {
   "cell_type": "code",
   "execution_count": 16,
   "metadata": {},
   "outputs": [
    {
     "data": {
      "image/png": "[encoded data removed]",
      "text/plain": [
       "<Figure size 720x360 with 1 Axes>"
      ]
     },
     "metadata": {
      "needs_background": "light"
     },
     "output_type": "display_data"
    }
   ],
   "source": [
    "graph = (df_ml.team1.value_counts() + df_ml.team2.value_counts()).sort_values()\n",
    "graph = graph[graph.index.isin(qualifiers)]\n",
    "\n",
    "graph_x = graph.index\n",
    "graph_y = graph.values\n",
    "\n",
    "f = plt.figure()\n",
    "f.set_figwidth(10)\n",
    "f.set_figheight(5)\n",
    "plt.xticks(rotation=\"vertical\")\n",
    "plt.bar(height=graph_y, x=graph_x, width=0.3)\n",
    "plt.show()"
   ]
  },
  {
   "cell_type": "markdown",
   "metadata": {},
   "source": [
    "Now, we want to find all the countries present in the dataset."
   ]
  },
  {
   "cell_type": "code",
   "execution_count": 17,
   "metadata": {},
   "outputs": [],
   "source": [
    "team1s = df.team1.unique()\n",
    "team2s = df.team2.unique()\n",
    "\n",
    "countries = np.unique(np.concatenate((team1s,team2s), axis=0))"
   ]
  },
  {
   "cell_type": "markdown",
   "metadata": {},
   "source": [
    "For a smoother approach to the dataset, we converted the teams to categorical labels."
   ]
  },
  {
   "cell_type": "code",
   "execution_count": 18,
   "metadata": {},
   "outputs": [
    {
     "data": {
      "text/html": [
       "<div>\n",
       "<style scoped>\n",
       "    .dataframe tbody tr th:only-of-type {\n",
       "        vertical-align: middle;\n",
       "    }\n",
       "\n",
       "    .dataframe tbody tr th {\n",
       "        vertical-align: top;\n",
       "    }\n",
       "\n",
       "    .dataframe thead th {\n",
       "        text-align: right;\n",
       "    }\n",
       "</style>\n",
       "<table border=\"1\" class=\"dataframe\">\n",
       "  <thead>\n",
       "    <tr style=\"text-align: right;\">\n",
       "      <th></th>\n",
       "      <th>year</th>\n",
       "      <th>team1</th>\n",
       "      <th>team2</th>\n",
       "      <th>team1_score</th>\n",
       "      <th>team2_score</th>\n",
       "    </tr>\n",
       "  </thead>\n",
       "  <tbody>\n",
       "    <tr>\n",
       "      <th>0</th>\n",
       "      <td>2018</td>\n",
       "      <td>95</td>\n",
       "      <td>157</td>\n",
       "      <td>1.0</td>\n",
       "      <td>1.0</td>\n",
       "    </tr>\n",
       "    <tr>\n",
       "      <th>1</th>\n",
       "      <td>1921</td>\n",
       "      <td>215</td>\n",
       "      <td>171</td>\n",
       "      <td>1.0</td>\n",
       "      <td>2.0</td>\n",
       "    </tr>\n",
       "    <tr>\n",
       "      <th>2</th>\n",
       "      <td>1970</td>\n",
       "      <td>33</td>\n",
       "      <td>187</td>\n",
       "      <td>1.0</td>\n",
       "      <td>2.0</td>\n",
       "    </tr>\n",
       "    <tr>\n",
       "      <th>3</th>\n",
       "      <td>2009</td>\n",
       "      <td>209</td>\n",
       "      <td>2</td>\n",
       "      <td>0.0</td>\n",
       "      <td>1.0</td>\n",
       "    </tr>\n",
       "    <tr>\n",
       "      <th>4</th>\n",
       "      <td>1979</td>\n",
       "      <td>61</td>\n",
       "      <td>146</td>\n",
       "      <td>5.0</td>\n",
       "      <td>1.0</td>\n",
       "    </tr>\n",
       "  </tbody>\n",
       "</table>\n",
       "</div>"
      ],
      "text/plain": [
       "   year team1 team2  team1_score  team2_score\n",
       "0  2018    95   157          1.0          1.0\n",
       "1  1921   215   171          1.0          2.0\n",
       "2  1970    33   187          1.0          2.0\n",
       "3  2009   209     2          0.0          1.0\n",
       "4  1979    61   146          5.0          1.0"
      ]
     },
     "execution_count": 18,
     "metadata": {},
     "output_type": "execute_result"
    }
   ],
   "source": [
    "from sklearn import preprocessing\n",
    "\n",
    "label_encoder = preprocessing.LabelEncoder()\n",
    "\n",
    "# We use \"countries\" if we work with the main dataframe,\n",
    "# we use qualifiers if we work with the qualifiers only dataframe\n",
    "label_encoder.fit(countries)\n",
    "# label_encoder.fit(qualifiers)\n",
    "\n",
    "df_labeled = df_ml.copy()\n",
    "# df_labeled = df_ml_q.copy()\n",
    "\n",
    "\n",
    "df_labeled[\"team1\"] = label_encoder.transform(df_labeled[\"team1\"])\n",
    "df_labeled[\"team2\"] = label_encoder.transform(df_labeled[\"team2\"])\n",
    "\n",
    "df_labeled[\"team1\"] = df_labeled[\"team1\"].astype(\"category\")\n",
    "df_labeled[\"team2\"] = df_labeled[\"team2\"].astype(\"category\")\n",
    "\n",
    "df_labeled.head()"
   ]
  },
  {
   "cell_type": "markdown",
   "metadata": {},
   "source": [
    "Now, we split the dataset into training and testing samples."
   ]
  },
  {
   "cell_type": "code",
   "execution_count": 19,
   "metadata": {},
   "outputs": [],
   "source": [
    "from sklearn.model_selection import train_test_split\n",
    "\n",
    "# Making our X, Y and Training and Testing samples\n",
    "X = df_labeled.iloc[:,0:3]\n",
    "Y = df_labeled.iloc[:,3:5]\n",
    "\n",
    "X_train, X_test, Y_train, Y_test = train_test_split(X, Y, test_size=0.25, random_state=42)"
   ]
  },
  {
   "cell_type": "markdown",
   "metadata": {},
   "source": [
    "### Machine Learning model"
   ]
  },
  {
   "cell_type": "markdown",
   "metadata": {},
   "source": [
    "Since we needed to predict two targets (team1 score and team2 score), this made it challenging to find the right model. We chose the MultiOutputRegressor to deal with having multiple targets. After some trial and error, the RandomForestClassifier function seemed to be the most appropriate estimator."
   ]
  },
  {
   "cell_type": "code",
   "execution_count": 20,
   "metadata": {},
   "outputs": [
    {
     "data": {
      "text/plain": [
       "MultiOutputRegressor(estimator=RandomForestClassifier())"
      ]
     },
     "execution_count": 20,
     "metadata": {},
     "output_type": "execute_result"
    }
   ],
   "source": [
    "from sklearn.multioutput import MultiOutputRegressor\n",
    "from sklearn.ensemble import RandomForestClassifier\n",
    "\n",
    "model = MultiOutputRegressor(RandomForestClassifier())\n",
    "model.fit(X_train,Y_train)"
   ]
  },
  {
   "cell_type": "markdown",
   "metadata": {},
   "source": [
    "Next, we look at the performance measures of our model on both the training and testing set."
   ]
  },
  {
   "cell_type": "code",
   "execution_count": 21,
   "metadata": {},
   "outputs": [],
   "source": [
    "from sklearn.metrics import classification_report\n",
    "\n",
    "def reporting(X, Y, model):\n",
    "    predictions = model.predict(X)\n",
    "    score_team1 = [score[0] for score in predictions]\n",
    "    score_team2 = [score[1] for score in predictions]\n",
    "    \n",
    "    print(\"Classification Report Team 1\")\n",
    "    print(classification_report(Y.iloc[:,0], score_team1))\n",
    "    print(\"Classification Report Team 2\")\n",
    "    print(classification_report(Y.iloc[:,1], score_team2))\n",
    "    \n",
    "    return score_team1, score_team2"
   ]
  },
  {
   "cell_type": "code",
   "execution_count": 22,
   "metadata": {},
   "outputs": [
    {
     "name": "stdout",
     "output_type": "stream",
     "text": [
      "Training Set\n",
      "Classification Report Team 1\n",
      "              precision    recall  f1-score   support\n",
      "\n",
      "         0.0       0.90      0.93      0.91      8575\n",
      "         1.0       0.90      0.91      0.91      8623\n",
      "         2.0       0.89      0.87      0.88      5448\n",
      "         3.0       0.90      0.86      0.88      2625\n",
      "         4.0       0.90      0.85      0.88      1312\n",
      "         5.0       0.85      0.84      0.84       574\n",
      "         6.0       0.88      0.84      0.86       317\n",
      "         7.0       0.92      0.83      0.87       162\n",
      "         8.0       0.80      0.85      0.83        92\n",
      "         9.0       0.95      0.84      0.89        44\n",
      "        10.0       0.85      0.79      0.81        14\n",
      "        11.0       0.88      1.00      0.93         7\n",
      "        12.0       0.86      1.00      0.92         6\n",
      "\n",
      "    accuracy                           0.90     27799\n",
      "   macro avg       0.88      0.88      0.88     27799\n",
      "weighted avg       0.90      0.90      0.90     27799\n",
      "\n",
      "Classification Report Team 2\n",
      "              precision    recall  f1-score   support\n",
      "\n",
      "         0.0       0.90      0.92      0.91      8519\n",
      "         1.0       0.90      0.91      0.91      8712\n",
      "         2.0       0.89      0.89      0.89      5460\n",
      "         3.0       0.89      0.86      0.88      2634\n",
      "         4.0       0.90      0.85      0.87      1288\n",
      "         5.0       0.91      0.81      0.85       562\n",
      "         6.0       0.88      0.87      0.87       304\n",
      "         7.0       0.88      0.85      0.86       157\n",
      "         8.0       0.81      0.82      0.81        98\n",
      "         9.0       0.90      0.90      0.90        41\n",
      "        10.0       0.82      0.82      0.82        11\n",
      "        11.0       0.88      1.00      0.93         7\n",
      "        12.0       1.00      0.83      0.91         6\n",
      "\n",
      "    accuracy                           0.90     27799\n",
      "   macro avg       0.89      0.87      0.88     27799\n",
      "weighted avg       0.90      0.90      0.90     27799\n",
      "\n",
      "Testing Set\n",
      "Classification Report Team 1\n",
      "              precision    recall  f1-score   support\n",
      "\n",
      "         0.0       0.37      0.42      0.40      2784\n",
      "         1.0       0.32      0.35      0.33      2919\n",
      "         2.0       0.22      0.19      0.20      1852\n",
      "         3.0       0.14      0.10      0.11       923\n",
      "         4.0       0.09      0.07      0.08       404\n",
      "         5.0       0.07      0.04      0.05       201\n",
      "         6.0       0.01      0.01      0.01        90\n",
      "         7.0       0.04      0.02      0.03        48\n",
      "         8.0       0.00      0.00      0.00        28\n",
      "         9.0       0.00      0.00      0.00        11\n",
      "        10.0       0.50      0.25      0.33         4\n",
      "        11.0       0.00      0.00      0.00         3\n",
      "        12.0       0.00      0.00      0.00         0\n",
      "\n",
      "    accuracy                           0.29      9267\n",
      "   macro avg       0.13      0.11      0.12      9267\n",
      "weighted avg       0.27      0.29      0.28      9267\n",
      "\n",
      "Classification Report Team 2\n",
      "              precision    recall  f1-score   support\n",
      "\n",
      "         0.0       0.39      0.44      0.41      2840\n",
      "         1.0       0.31      0.36      0.33      2830\n",
      "         2.0       0.22      0.20      0.21      1840\n",
      "         3.0       0.13      0.09      0.10       914\n",
      "         4.0       0.11      0.07      0.09       428\n",
      "         5.0       0.03      0.02      0.02       213\n",
      "         6.0       0.08      0.05      0.06       103\n",
      "         7.0       0.06      0.04      0.05        53\n",
      "         8.0       0.00      0.00      0.00        22\n",
      "         9.0       0.14      0.07      0.10        14\n",
      "        10.0       0.00      0.00      0.00         7\n",
      "        11.0       0.00      0.00      0.00         3\n",
      "        12.0       0.00      0.00      0.00         0\n",
      "\n",
      "    accuracy                           0.30      9267\n",
      "   macro avg       0.11      0.10      0.11      9267\n",
      "weighted avg       0.28      0.30      0.28      9267\n",
      "\n"
     ]
    }
   ],
   "source": [
    "print('Training Set')\n",
    "training_report_team1, training_report_team2 = reporting(X_train, Y_train, model)\n",
    "print('Testing Set')\n",
    "testing_report_team1, testing_report_team2 = reporting(X_test, Y_test, model)"
   ]
  },
  {
   "cell_type": "markdown",
   "metadata": {},
   "source": [
    "Our classifcation report shows our model performs significantly better on the training set with a 90% accuracy, however the accuracy drops to 30% on the testing set. This is likely due to overfitting. We will try to enhance model performance with hyperparameter tuning. \n",
    "\n",
    "<br>\n",
    "\n",
    "To fix this we tried cross-validation."
   ]
  },
  {
   "cell_type": "code",
   "execution_count": 23,
   "metadata": {
    "scrolled": true
   },
   "outputs": [
    {
     "name": "stdout",
     "output_type": "stream",
     "text": [
      "Fitting 3 folds for each of 50 candidates, totalling 150 fits\n"
     ]
    },
    {
     "name": "stderr",
     "output_type": "stream",
     "text": [
      "[Parallel(n_jobs=-1)]: Using backend LokyBackend with 12 concurrent workers.\n",
      "[Parallel(n_jobs=-1)]: Done  17 tasks      | elapsed:   36.8s\n",
      "[Parallel(n_jobs=-1)]: Done 150 out of 150 | elapsed:  4.9min finished\n"
     ]
    },
    {
     "name": "stdout",
     "output_type": "stream",
     "text": [
      "{'estimator__n_estimators': 800, 'estimator__min_samples_split': 10, 'estimator__min_samples_leaf': 1, 'estimator__max_depth': 60}\n",
      "\n",
      "\n",
      "MultiOutputRegressor(estimator=RandomForestClassifier(max_depth=60,\n",
      "                                                      min_samples_split=10,\n",
      "                                                      n_estimators=800))\n"
     ]
    }
   ],
   "source": [
    "# The cell below takes long to compute. Est: 5-8 minutes\n",
    "from sklearn.model_selection import RandomizedSearchCV\n",
    "# Number of trees in random forest\n",
    "n_estimators = [int(x) for x in np.linspace(start = 100, stop = 1000, num = 10)]\n",
    "# Maximum number of levels in tree\n",
    "max_depth = [int(x) for x in np.linspace(10, 100,10)]\n",
    "# Minimum number of samples required to split a node\n",
    "min_samples_split = [2, 5, 10,14,16]\n",
    "# Minimum number of samples required at each leaf node\n",
    "min_samples_leaf = [1, 2, 4,6,8,10]\n",
    "# Create the random grid\n",
    "random_grid = {'estimator__n_estimators': n_estimators,\n",
    "               'estimator__max_depth': max_depth,\n",
    "               'estimator__min_samples_split': min_samples_split,\n",
    "               'estimator__min_samples_leaf': min_samples_leaf,}\n",
    "\n",
    "rf_randomcv=RandomizedSearchCV(estimator=model,param_distributions=random_grid,n_iter=50,cv=3,verbose=2,\n",
    "                               random_state=100,n_jobs=-1)\n",
    "# fit to randomized rf\n",
    "rf_randomcv.fit(X_train,Y_train)\n",
    "\n",
    "# to see best parameters\n",
    "print(rf_randomcv.best_params_)\n",
    "print(\"\\n\")\n",
    "# to make new classifier with the best estimator\n",
    "best_random_grid=rf_randomcv.best_estimator_\n",
    "print(best_random_grid)"
   ]
  },
  {
   "cell_type": "code",
   "execution_count": 24,
   "metadata": {
    "scrolled": true
   },
   "outputs": [
    {
     "data": {
      "text/plain": [
       "MultiOutputRegressor(estimator=RandomForestClassifier(max_depth=60,\n",
       "                                                      min_samples_split=10,\n",
       "                                                      n_estimators=800))"
      ]
     },
     "execution_count": 24,
     "metadata": {},
     "output_type": "execute_result"
    }
   ],
   "source": [
    "best_random_grid.fit(X_train, Y_train)"
   ]
  },
  {
   "cell_type": "code",
   "execution_count": 25,
   "metadata": {},
   "outputs": [
    {
     "name": "stdout",
     "output_type": "stream",
     "text": [
      "Training Set\n",
      "Classification Report Team 1\n",
      "              precision    recall  f1-score   support\n",
      "\n",
      "         0.0       0.72      0.87      0.79      8575\n",
      "         1.0       0.68      0.85      0.76      8623\n",
      "         2.0       0.73      0.62      0.67      5448\n",
      "         3.0       0.78      0.36      0.49      2625\n",
      "         4.0       0.76      0.25      0.38      1312\n",
      "         5.0       0.73      0.15      0.25       574\n",
      "         6.0       0.76      0.15      0.25       317\n",
      "         7.0       0.83      0.12      0.22       162\n",
      "         8.0       1.00      0.07      0.12        92\n",
      "         9.0       1.00      0.02      0.04        44\n",
      "        10.0       0.00      0.00      0.00        14\n",
      "        11.0       1.00      0.14      0.25         7\n",
      "        12.0       0.00      0.00      0.00         6\n",
      "\n",
      "    accuracy                           0.71     27799\n",
      "   macro avg       0.69      0.28      0.32     27799\n",
      "weighted avg       0.72      0.71      0.68     27799\n",
      "\n",
      "Classification Report Team 2\n",
      "              precision    recall  f1-score   support\n",
      "\n",
      "         0.0       0.71      0.87      0.78      8519\n",
      "         1.0       0.67      0.86      0.75      8712\n",
      "         2.0       0.73      0.62      0.67      5460\n",
      "         3.0       0.81      0.36      0.50      2634\n",
      "         4.0       0.76      0.23      0.35      1288\n",
      "         5.0       0.78      0.13      0.22       562\n",
      "         6.0       0.78      0.13      0.22       304\n",
      "         7.0       0.89      0.10      0.18       157\n",
      "         8.0       1.00      0.03      0.06        98\n",
      "         9.0       1.00      0.05      0.09        41\n",
      "        10.0       0.00      0.00      0.00        11\n",
      "        11.0       0.00      0.00      0.00         7\n",
      "        12.0       0.00      0.00      0.00         6\n",
      "\n",
      "    accuracy                           0.70     27799\n",
      "   macro avg       0.63      0.26      0.29     27799\n",
      "weighted avg       0.72      0.70      0.68     27799\n",
      "\n",
      "Testing Set\n",
      "Classification Report Team 1\n",
      "              precision    recall  f1-score   support\n",
      "\n",
      "         0.0       0.37      0.49      0.42      2784\n",
      "         1.0       0.31      0.42      0.36      2919\n",
      "         2.0       0.22      0.15      0.18      1852\n",
      "         3.0       0.18      0.05      0.07       923\n",
      "         4.0       0.18      0.04      0.07       404\n",
      "         5.0       0.00      0.00      0.00       201\n",
      "         6.0       0.00      0.00      0.00        90\n",
      "         7.0       0.50      0.04      0.08        48\n",
      "         8.0       0.00      0.00      0.00        28\n",
      "         9.0       0.00      0.00      0.00        11\n",
      "        10.0       0.00      0.00      0.00         4\n",
      "        11.0       0.00      0.00      0.00         3\n",
      "\n",
      "    accuracy                           0.32      9267\n",
      "   macro avg       0.15      0.10      0.10      9267\n",
      "weighted avg       0.28      0.32      0.29      9267\n",
      "\n",
      "Classification Report Team 2\n",
      "              precision    recall  f1-score   support\n",
      "\n",
      "         0.0       0.39      0.51      0.44      2840\n",
      "         1.0       0.30      0.42      0.35      2830\n",
      "         2.0       0.23      0.16      0.19      1840\n",
      "         3.0       0.17      0.05      0.07       914\n",
      "         4.0       0.18      0.03      0.06       428\n",
      "         5.0       0.11      0.01      0.02       213\n",
      "         6.0       0.15      0.02      0.03       103\n",
      "         7.0       0.50      0.04      0.07        53\n",
      "         8.0       0.00      0.00      0.00        22\n",
      "         9.0       0.00      0.00      0.00        14\n",
      "        10.0       0.00      0.00      0.00         7\n",
      "        11.0       0.00      0.00      0.00         3\n",
      "\n",
      "    accuracy                           0.32      9267\n",
      "   macro avg       0.17      0.10      0.10      9267\n",
      "weighted avg       0.29      0.32      0.29      9267\n",
      "\n"
     ]
    }
   ],
   "source": [
    "print('Training Set')\n",
    "training_score_team1, training_score_team2 = reporting(X_train, Y_train, best_random_grid)\n",
    "print('Testing Set')\n",
    "testing_score_team1, testing_score_team2 = reporting(X_test, Y_test, best_random_grid)"
   ]
  },
  {
   "cell_type": "markdown",
   "metadata": {},
   "source": [
    "In the classification report after we performed cross-validation, the model accuracy on the testing slightly improved by about 3%. \n",
    "\n",
    "Keep in mind that scores can vary a lot, but the games have only three possible outcomes: win, lose, draw.\n",
    "<br>\n",
    "<br>\n",
    "\n",
    "\n",
    "Let's add these three outcomes as one variable to our model and predictions, then see again how accurate our model is for predicting the outcome of the games."
   ]
  },
  {
   "cell_type": "code",
   "execution_count": 26,
   "metadata": {},
   "outputs": [],
   "source": [
    "# adding outcome to testing sample and predictions\n",
    "\n",
    "len_testing = len(testing_score_team1)\n",
    "resault_testing=[]\n",
    "resault_Y_test=[]\n",
    "list_Y_test1=list(Y_test.team1_score)\n",
    "list_Y_test2=list(Y_test.team2_score)\n",
    "\n",
    "\n",
    "for i in range(len_testing):\n",
    "    resault_testing.append(testing_score_team1[i]-testing_score_team2[i])\n",
    "    if (resault_testing[i]>0):\n",
    "        resault_testing[i]=1\n",
    "    elif (resault_testing[i]<0):\n",
    "        resault_testing[i]=-1\n",
    "        \n",
    "for i in range(len_testing):\n",
    "    resault_Y_test.append(list_Y_test1[i]-list_Y_test2[i])\n",
    "    if (resault_Y_test[i]>0):\n",
    "        resault_Y_test[i]=1\n",
    "    elif (resault_Y_test[i]<0):\n",
    "        resault_Y_test[i]=-1"
   ]
  },
  {
   "cell_type": "code",
   "execution_count": 27,
   "metadata": {},
   "outputs": [],
   "source": [
    "# adding outcome to training sample and predictions\n",
    "\n",
    "len_training = len(training_score_team1)\n",
    "resault_training=[]\n",
    "resault_Y_train=[]\n",
    "list_Y_train1=list(Y_train.team1_score)\n",
    "list_Y_train2=list(Y_train.team2_score)\n",
    "\n",
    "\n",
    "for i in range(len_training):\n",
    "    resault_training.append(training_score_team1[i]-training_score_team2[i])\n",
    "    if (resault_training[i]>0):\n",
    "        resault_training[i]=1\n",
    "    elif (resault_training[i]<0):\n",
    "        resault_training[i]=-1\n",
    "        \n",
    "for i in range(len_training):\n",
    "    resault_Y_train.append(list_Y_train1[i]-list_Y_train2[i])\n",
    "    if (resault_Y_train[i]>0):\n",
    "        resault_Y_train[i]=1\n",
    "    elif (resault_Y_train[i]<0):\n",
    "        resault_Y_train[i]=-1"
   ]
  },
  {
   "cell_type": "code",
   "execution_count": 28,
   "metadata": {},
   "outputs": [],
   "source": [
    "# adding outcome to our machine learning dataframe\n",
    "\n",
    "len_matches = len(df_ml.team1)\n",
    "resault=[]\n",
    "for i in range(len_matches):\n",
    "    resault.append(df_ml.team1_score[i]-df_ml.team2_score[i])\n",
    "    if (resault[i]>0):\n",
    "        resault[i]=1\n",
    "    elif (resault[i]<0):\n",
    "        resault[i]=-1"
   ]
  },
  {
   "cell_type": "code",
   "execution_count": 29,
   "metadata": {},
   "outputs": [],
   "source": [
    "df_ml[\"resault\"]=resault"
   ]
  },
  {
   "cell_type": "code",
   "execution_count": 30,
   "metadata": {},
   "outputs": [
    {
     "name": "stdout",
     "output_type": "stream",
     "text": [
      "              precision    recall  f1-score   support\n",
      "\n",
      "        -1.0       0.77      0.69      0.72     10627\n",
      "         0.0       0.51      0.69      0.59      6522\n",
      "         1.0       0.77      0.69      0.73     10650\n",
      "\n",
      "    accuracy                           0.69     27799\n",
      "   macro avg       0.69      0.69      0.68     27799\n",
      "weighted avg       0.71      0.69      0.70     27799\n",
      "\n"
     ]
    }
   ],
   "source": [
    "training_WINSreport_team1=classification_report(resault_Y_train,resault_training)\n",
    "print(training_WINSreport_team1)"
   ]
  },
  {
   "cell_type": "code",
   "execution_count": 31,
   "metadata": {},
   "outputs": [
    {
     "name": "stdout",
     "output_type": "stream",
     "text": [
      "              precision    recall  f1-score   support\n",
      "\n",
      "        -1.0       0.53      0.44      0.48      3565\n",
      "         0.0       0.24      0.36      0.28      2160\n",
      "         1.0       0.51      0.44      0.47      3542\n",
      "\n",
      "    accuracy                           0.42      9267\n",
      "   macro avg       0.43      0.41      0.41      9267\n",
      "weighted avg       0.45      0.42      0.43      9267\n",
      "\n"
     ]
    }
   ],
   "source": [
    "testing_WINSreport_team1=classification_report(resault_Y_test,resault_testing)\n",
    "print(testing_WINSreport_team1)"
   ]
  },
  {
   "cell_type": "markdown",
   "metadata": {},
   "source": [
    "The accuracy for predicting wins on training is still better than testing, but the overall accuracy improved. This indicates that our model does a better job of predicting the outcome of the game, than predicitng the actual scores. This was expected."
   ]
  },
  {
   "cell_type": "markdown",
   "metadata": {},
   "source": [
    "### Predictions"
   ]
  },
  {
   "cell_type": "markdown",
   "metadata": {},
   "source": [
    "We made a custom function to predict win, lose, or draw, which we will use for the group stage of the World Cup."
   ]
  },
  {
   "cell_type": "code",
   "execution_count": 32,
   "metadata": {},
   "outputs": [],
   "source": [
    "# function to find who wins when given model prediction\n",
    "def who_wins(predicted):\n",
    "    if (predicted[0][0]>predicted[0][1]):\n",
    "        return 0\n",
    "    elif (predicted[0][0]<predicted[0][1]):\n",
    "        return 1\n",
    "    else:\n",
    "        return 2"
   ]
  },
  {
   "cell_type": "markdown",
   "metadata": {},
   "source": [
    "This is a sample prediction to demonstrate how the function works."
   ]
  },
  {
   "cell_type": "code",
   "execution_count": 33,
   "metadata": {},
   "outputs": [
    {
     "name": "stdout",
     "output_type": "stream",
     "text": [
      "match is draw score: 1-1\n"
     ]
    }
   ],
   "source": [
    "# sample predictions\n",
    "team1=\"Wales\"\n",
    "team2=\"Iran\"\n",
    "year=2022\n",
    "\n",
    "teamss=[team1,team2]\n",
    "team1_labeled=label_encoder.transform([team1])[0]\n",
    "team2_labeled=label_encoder.transform([team2])[0]\n",
    "\n",
    "X_sample=np.array([[year,team1_labeled,team2_labeled]])\n",
    "sample_out = model.predict(X_sample)\n",
    "winner=who_wins(sample_out)\n",
    "\n",
    "try:\n",
    "    print(\"winner is %s score:%d-%d\" %(teamss[winner],sample_out[0][0],sample_out[0][1]))\n",
    "except IndexError:\n",
    "    print(\"match is draw score: %d-%d\" %(sample_out[0][0], sample_out[0][1]))"
   ]
  },
  {
   "cell_type": "markdown",
   "metadata": {},
   "source": [
    "As we mentioned near the beginning, we will use the penalties dataset to determine a winner when a draw isn't possible. We found the percentage of times a team won when match went to penalty. If a team wasn't in the dataset, we used a default penalty percentage of 0.5. We will use this principle after the group stage.\n",
    "\n",
    "For example, let's say England has a 0.6 penalty percentage and the USA has a 0.3 penalty percentage. If they face-off after the group stage and the model predicts a draw, then England would win the match."
   ]
  },
  {
   "cell_type": "code",
   "execution_count": 34,
   "metadata": {},
   "outputs": [
    {
     "data": {
      "text/html": [
       "<div>\n",
       "<style scoped>\n",
       "    .dataframe tbody tr th:only-of-type {\n",
       "        vertical-align: middle;\n",
       "    }\n",
       "\n",
       "    .dataframe tbody tr th {\n",
       "        vertical-align: top;\n",
       "    }\n",
       "\n",
       "    .dataframe thead th {\n",
       "        text-align: right;\n",
       "    }\n",
       "</style>\n",
       "<table border=\"1\" class=\"dataframe\">\n",
       "  <thead>\n",
       "    <tr style=\"text-align: right;\">\n",
       "      <th></th>\n",
       "      <th>date</th>\n",
       "      <th>team1</th>\n",
       "      <th>team2</th>\n",
       "      <th>winner</th>\n",
       "    </tr>\n",
       "  </thead>\n",
       "  <tbody>\n",
       "    <tr>\n",
       "      <th>1</th>\n",
       "      <td>1971-11-14</td>\n",
       "      <td>South Korea</td>\n",
       "      <td>Vietnam Republic</td>\n",
       "      <td>South Korea</td>\n",
       "    </tr>\n",
       "    <tr>\n",
       "      <th>2</th>\n",
       "      <td>1972-05-17</td>\n",
       "      <td>Thailand</td>\n",
       "      <td>South Korea</td>\n",
       "      <td>South Korea</td>\n",
       "    </tr>\n",
       "    <tr>\n",
       "      <th>4</th>\n",
       "      <td>1973-04-21</td>\n",
       "      <td>Senegal</td>\n",
       "      <td>Ghana</td>\n",
       "      <td>Ghana</td>\n",
       "    </tr>\n",
       "    <tr>\n",
       "      <th>10</th>\n",
       "      <td>1973-07-28</td>\n",
       "      <td>Myanmar</td>\n",
       "      <td>South Korea</td>\n",
       "      <td>Myanmar</td>\n",
       "    </tr>\n",
       "    <tr>\n",
       "      <th>14</th>\n",
       "      <td>1974-03-28</td>\n",
       "      <td>Qatar</td>\n",
       "      <td>United Arab Emirates</td>\n",
       "      <td>Qatar</td>\n",
       "    </tr>\n",
       "  </tbody>\n",
       "</table>\n",
       "</div>"
      ],
      "text/plain": [
       "          date        team1                 team2       winner\n",
       "1   1971-11-14  South Korea      Vietnam Republic  South Korea\n",
       "2   1972-05-17     Thailand           South Korea  South Korea\n",
       "4   1973-04-21      Senegal                 Ghana        Ghana\n",
       "10  1973-07-28      Myanmar           South Korea      Myanmar\n",
       "14  1974-03-28        Qatar  United Arab Emirates        Qatar"
      ]
     },
     "execution_count": 34,
     "metadata": {},
     "output_type": "execute_result"
    }
   ],
   "source": [
    "penalties = penalties[penalties[\"team1\"].isin(qualifiers) | penalties[\"team2\"].isin(qualifiers)]\n",
    "penalties.head()"
   ]
  },
  {
   "cell_type": "markdown",
   "metadata": {},
   "source": [
    "Making a class object \"Team\", which holds necessary data, so we can determine the team standings in the group stage."
   ]
  },
  {
   "cell_type": "code",
   "execution_count": 35,
   "metadata": {},
   "outputs": [],
   "source": [
    "class Team():\n",
    "    def __init__(self, name):\n",
    "        self.name = name\n",
    "        self.goals_scored = 0\n",
    "        self.goals_received = 0\n",
    "        self.win = 0\n",
    "        self.lose = 0\n",
    "        self.draw = 0\n",
    "        self.total_points = 0\n",
    "        self.penalty_prc = 0.5"
   ]
  },
  {
   "cell_type": "markdown",
   "metadata": {},
   "source": [
    "Making a class object for each team."
   ]
  },
  {
   "cell_type": "code",
   "execution_count": 36,
   "metadata": {},
   "outputs": [],
   "source": [
    "teams = {}\n",
    "\n",
    "# Making a class object for each team\n",
    "for cntry in qualifiers:\n",
    "    teams[cntry] = Team(cntry)\n",
    "    \n",
    "    sumP = penalties[penalties.team1 == cntry].shape[0] + penalties[penalties.team2 == cntry].shape[0]\n",
    "    sumW = penalties[penalties.winner == cntry].shape[0]\n",
    "    \n",
    "    if (sumP>0):\n",
    "        teams[cntry].penalty_prc = (sumW/sumP)"
   ]
  },
  {
   "cell_type": "markdown",
   "metadata": {},
   "source": [
    "### Group Stage"
   ]
  },
  {
   "cell_type": "markdown",
   "metadata": {},
   "source": [
    "##### How the group stage works:\n",
    "<br>\n",
    "    &nbsp;&nbsp;&nbsp;&nbsp;&nbsp;&nbsp;- Each of the 8 groups will have matches among themselves.\n",
    "<br><br>\n",
    "    &nbsp;&nbsp;&nbsp;&nbsp;&nbsp;&nbsp; - Each \"win\" is 3 points, a \"draw\" is 1 point, and a \"loss\" is 0.\n",
    "<br><br>\n",
    "    &nbsp;&nbsp;&nbsp;&nbsp;&nbsp;&nbsp; - At the end of this stage, teams in each group will be seeded by their total point.\n",
    "<br><br>\n",
    "     &nbsp;&nbsp;&nbsp;&nbsp;&nbsp;&nbsp;&nbsp;&nbsp;&nbsp;&nbsp;&nbsp;&nbsp;   - If two teams in a group have the same points, they will be seeded by their goal difference.\n",
    "<br>\n",
    "            &nbsp;&nbsp;&nbsp;&nbsp;&nbsp;&nbsp;&nbsp;&nbsp;&nbsp;&nbsp;&nbsp;&nbsp;&nbsp;&nbsp;&nbsp;&nbsp;&nbsp;&nbsp;- If the goal difference is also the same, they will be seeded by the total goals scored.\n",
    "<br><br>\n",
    "    &nbsp;&nbsp;&nbsp;&nbsp;&nbsp;&nbsp;- The top two teams in each group will advance to the next round."
   ]
  },
  {
   "cell_type": "code",
   "execution_count": 37,
   "metadata": {},
   "outputs": [
    {
     "name": "stdout",
     "output_type": "stream",
     "text": [
      "Group A games:\n",
      "   Qatar vs Ecuador,   winner: Qatar,   score: 2-1\n",
      "\n",
      "   Qatar vs Senegal,   match ended with a draw,   score: 0-0\n",
      "\n",
      "   Qatar vs Netherlands,   winner: Netherlands,   score: 0-2\n",
      "\n",
      "   Ecuador vs Senegal,   match ended with a draw,   score: 0-0\n",
      "\n",
      "   Ecuador vs Netherlands,   winner: Netherlands,   score: 1-4\n",
      "\n",
      "   Senegal vs Netherlands,   winner: Netherlands,   score: 1-2\n",
      "\n",
      "Group B games:\n",
      "   England vs Iran,   match ended with a draw,   score: 0-0\n",
      "\n",
      "   England vs United States,   winner: United States,   score: 0-1\n",
      "\n",
      "   England vs Wales,   match ended with a draw,   score: 1-1\n",
      "\n",
      "   Iran vs United States,   winner: United States,   score: 0-3\n",
      "\n",
      "   Iran vs Wales,   winner: Wales,   score: 0-1\n",
      "\n",
      "   United States vs Wales,   winner: Wales,   score: 0-1\n",
      "\n",
      "Group C games:\n",
      "   Argentina vs Saudi Arabia,   match ended with a draw,   score: 0-0\n",
      "\n",
      "   Argentina vs Mexico,   winner: Argentina,   score: 3-0\n",
      "\n",
      "   Argentina vs Poland,   match ended with a draw,   score: 0-0\n",
      "\n",
      "   Saudi Arabia vs Mexico,   match ended with a draw,   score: 0-0\n",
      "\n",
      "   Saudi Arabia vs Poland,   match ended with a draw,   score: 1-1\n",
      "\n",
      "   Mexico vs Poland,   match ended with a draw,   score: 0-0\n",
      "\n",
      "Group D games:\n",
      "   France vs Australia,   winner: France,   score: 2-0\n",
      "\n",
      "   France vs Denmark,   winner: Denmark,   score: 0-2\n",
      "\n",
      "   France vs Tunisia,   winner: France,   score: 1-0\n",
      "\n",
      "   Australia vs Denmark,   winner: Denmark,   score: 1-2\n",
      "\n",
      "   Australia vs Tunisia,   match ended with a draw,   score: 0-0\n",
      "\n",
      "   Denmark vs Tunisia,   winner: Tunisia,   score: 0-1\n",
      "\n",
      "Group E games:\n",
      "   Spain vs Costa Rica,   match ended with a draw,   score: 2-2\n",
      "\n",
      "   Spain vs Germany,   winner: Spain,   score: 5-1\n",
      "\n",
      "   Spain vs Japan,   winner: Spain,   score: 1-0\n",
      "\n",
      "   Costa Rica vs Germany,   winner: Costa Rica,   score: 3-1\n",
      "\n",
      "   Costa Rica vs Japan,   winner: Costa Rica,   score: 1-0\n",
      "\n",
      "   Germany vs Japan,   match ended with a draw,   score: 1-1\n",
      "\n",
      "Group F games:\n",
      "   Belgium vs Canada,   match ended with a draw,   score: 2-2\n",
      "\n",
      "   Belgium vs Morocco,   winner: Morocco,   score: 1-4\n",
      "\n",
      "   Belgium vs Croatia,   winner: Belgium,   score: 1-0\n",
      "\n",
      "   Canada vs Morocco,   winner: Morocco,   score: 0-2\n",
      "\n",
      "   Canada vs Croatia,   winner: Croatia,   score: 0-1\n",
      "\n",
      "   Morocco vs Croatia,   winner: Morocco,   score: 2-0\n",
      "\n",
      "Group G games:\n",
      "   Brazil vs Serbia,   winner: Brazil,   score: 5-1\n",
      "\n",
      "   Brazil vs Switzerland,   winner: Brazil,   score: 5-1\n",
      "\n",
      "   Brazil vs Cameroon,   winner: Brazil,   score: 4-0\n",
      "\n",
      "   Serbia vs Switzerland,   match ended with a draw,   score: 1-1\n",
      "\n",
      "   Serbia vs Cameroon,   match ended with a draw,   score: 0-0\n",
      "\n",
      "   Switzerland vs Cameroon,   winner: Switzerland,   score: 1-0\n",
      "\n",
      "Group H games:\n",
      "   Portugal vs Ghana,   winner: Portugal,   score: 2-0\n",
      "\n",
      "   Portugal vs Uruguay,   winner: Uruguay,   score: 0-1\n",
      "\n",
      "   Portugal vs South Korea,   winner: South Korea,   score: 0-1\n",
      "\n",
      "   Ghana vs Uruguay,   winner: Uruguay,   score: 0-5\n",
      "\n",
      "   Ghana vs South Korea,   winner: South Korea,   score: 0-1\n",
      "\n",
      "   Uruguay vs South Korea,   match ended with a draw,   score: 0-0\n",
      "\n"
     ]
    }
   ],
   "source": [
    "# Group Stage\n",
    "# Win=3, lose=0, draw=1  points\n",
    "# top two teams in each group advance\n",
    "\n",
    "len_group = 4\n",
    "year = 2022\n",
    "\n",
    "for group in list(Groups.keys()):\n",
    "    Countries=Groups[group]\n",
    "    print(\"%s games:\" %group)\n",
    "    for i in range(len_group):\n",
    "        j=i+1\n",
    "        team1 = Countries[i]\n",
    "        team1_label = label_encoder.transform([team1])[0]\n",
    "        while (j<len_group):\n",
    "            team2 = Countries[j]\n",
    "            team2_label = label_encoder.transform([team2])[0]\n",
    "            match=[team1,team2]\n",
    "            \n",
    "            X_temp = np.array([[year,team1_label,team2_label]])\n",
    "            out = model.predict(X_temp)\n",
    "            winner = who_wins(out)\n",
    "            \n",
    "            teams[team1].goals_scored += out[0][0]\n",
    "            teams[team1].goals_received += out[0][1]\n",
    "            teams[team2].goals_scored += out[0][1]\n",
    "            teams[team2].goals_received += out[0][0]\n",
    "            \n",
    "            try:\n",
    "                print(\"   %s vs %s,   winner: %s,   score: %d-%d\\n\" %(team1,team2,match[winner],out[0][0],out[0][1]))\n",
    "                \n",
    "                if (winner==0):\n",
    "                    teams[team1].win += 1\n",
    "                    teams[team1].total_points += 3\n",
    "                    teams[team2].lose += 1\n",
    "                \n",
    "                elif (winner==1):\n",
    "                    teams[team2].win += 1\n",
    "                    teams[team2].total_points += 3\n",
    "                    teams[team1].lose += 1\n",
    "                    \n",
    "            \n",
    "            except IndexError:\n",
    "                print(\"   %s vs %s,   match ended with a draw,   score: %d-%d\\n\" %(team1,team2,out[0][0],out[0][1]))\n",
    "                \n",
    "                teams[team1].draw += 1\n",
    "                teams[team2].draw += 1\n",
    "                teams[team1].total_points += 1\n",
    "                teams[team2].total_points += 1\n",
    "                \n",
    "            j=j+1         "
   ]
  },
  {
   "cell_type": "markdown",
   "metadata": {},
   "source": [
    "A function to sort each group by the appropriate attributes."
   ]
  },
  {
   "cell_type": "code",
   "execution_count": 38,
   "metadata": {},
   "outputs": [],
   "source": [
    "standings_A = []\n",
    "standings_B = []\n",
    "standings_C = []\n",
    "standings_D = []\n",
    "standings_E = []\n",
    "standings_F = []\n",
    "standings_G = []\n",
    "standings_H = []\n",
    "\n",
    "def sort_stand(group_, listy):\n",
    "    for j in group_:\n",
    "        listy.append(teams[j])\n",
    "        \n",
    "    listy = sorted(listy, key=lambda i: (i.total_points, (i.goals_scored-i.goals_received), i.goals_scored), reverse=True)\n",
    "    \n",
    "    return listy"
   ]
  },
  {
   "cell_type": "code",
   "execution_count": 39,
   "metadata": {},
   "outputs": [],
   "source": [
    "standings_A = sort_stand(Group_A, standings_A)\n",
    "standings_B = sort_stand(Group_B, standings_B)\n",
    "standings_C = sort_stand(Group_C, standings_C)\n",
    "standings_D = sort_stand(Group_D, standings_D)\n",
    "standings_E = sort_stand(Group_E, standings_E)\n",
    "standings_F = sort_stand(Group_F, standings_F)\n",
    "standings_G = sort_stand(Group_G, standings_G)\n",
    "standings_H = sort_stand(Group_H, standings_H)"
   ]
  },
  {
   "cell_type": "markdown",
   "metadata": {},
   "source": [
    "A function to determine who goes to the next round. Since we can't have a draw anymore, this function always determines a winner."
   ]
  },
  {
   "cell_type": "code",
   "execution_count": 40,
   "metadata": {},
   "outputs": [],
   "source": [
    "def who_goes_up(team1,team2,top_):\n",
    "    team1_label = label_encoder.transform([team1])[0]\n",
    "    team2_label = label_encoder.transform([team2])[0]\n",
    "    match=[team1,team2]\n",
    "\n",
    "    X_temp = np.array([[year,team1_label,team2_label]])\n",
    "    out = model.predict(X_temp)\n",
    "    winner = who_wins(out)\n",
    "\n",
    "    try:\n",
    "        print(\"   %s vs %s,   winner: %s,   score: %d-%d\\n\" %(team1,team2,match[winner],out[0][0],out[0][1]))\n",
    "        \n",
    "    except IndexError:\n",
    "        if (teams[team1].penalty_prc>teams[team2].penalty_prc):\n",
    "            winner = 0\n",
    "\n",
    "        elif (teams[team1].penalty_prc<teams[team2].penalty_prc):\n",
    "            winner = 1\n",
    "            \n",
    "        else:\n",
    "            winner = random.choice([0,1])\n",
    "\n",
    "        print(\"   %s vs %s,   match went to penalty,   winner: %s\\n\" %(team1,team2,match[winner]))\n",
    "    top_.append(match[winner])\n",
    "    return top_"
   ]
  },
  {
   "cell_type": "markdown",
   "metadata": {},
   "source": [
    "### Second Round"
   ]
  },
  {
   "cell_type": "markdown",
   "metadata": {},
   "source": [
    "##### How the second round works:\n",
    "\n",
    "We are now left with 16 teams. \n",
    "<br><br>\n",
    "First place team of each group will face the second place team of another group.\n",
    "<br><br>\n",
    "Groups A and B will face each other, C and D will face each other, E and F will face each other, and G and H will face each other"
   ]
  },
  {
   "cell_type": "code",
   "execution_count": 41,
   "metadata": {},
   "outputs": [
    {
     "name": "stdout",
     "output_type": "stream",
     "text": [
      "   Netherlands vs United States,   winner: United States,   score: 0-3\n",
      "\n",
      "   Wales vs Qatar,   winner: Qatar,   score: 1-2\n",
      "\n",
      "   Argentina vs France,   match went to penalty,   winner: Argentina\n",
      "\n",
      "   Denmark vs Saudi Arabia,   winner: Denmark,   score: 1-0\n",
      "\n",
      "   Spain vs Belgium,   match went to penalty,   winner: Belgium\n",
      "\n",
      "   Morocco vs Costa Rica,   winner: Morocco,   score: 2-0\n",
      "\n",
      "   Brazil vs South Korea,   winner: Brazil,   score: 5-1\n",
      "\n",
      "   Uruguay vs Switzerland,   match went to penalty,   winner: Uruguay\n",
      "\n"
     ]
    },
    {
     "data": {
      "text/plain": [
       "['United States',\n",
       " 'Qatar',\n",
       " 'Argentina',\n",
       " 'Denmark',\n",
       " 'Belgium',\n",
       " 'Morocco',\n",
       " 'Brazil',\n",
       " 'Uruguay']"
      ]
     },
     "execution_count": 41,
     "metadata": {},
     "output_type": "execute_result"
    }
   ],
   "source": [
    "top_8=[]\n",
    "top_8 = who_goes_up(standings_A[0].name, standings_B[1].name, top_8)\n",
    "top_8 = who_goes_up(standings_B[0].name, standings_A[1].name, top_8)\n",
    "top_8 = who_goes_up(standings_C[0].name, standings_D[1].name, top_8)\n",
    "top_8 = who_goes_up(standings_D[0].name, standings_C[1].name, top_8)\n",
    "top_8 = who_goes_up(standings_E[0].name, standings_F[1].name, top_8)\n",
    "top_8 = who_goes_up(standings_F[0].name, standings_E[1].name, top_8)\n",
    "top_8 = who_goes_up(standings_G[0].name, standings_H[1].name, top_8)\n",
    "top_8 = who_goes_up(standings_H[0].name, standings_G[1].name, top_8)\n",
    "\n",
    "top_8"
   ]
  },
  {
   "cell_type": "markdown",
   "metadata": {},
   "source": [
    "### Quarter Finals"
   ]
  },
  {
   "cell_type": "markdown",
   "metadata": {},
   "source": [
    "##### How the Quarter Finals works:\n",
    "\n",
    "Winner of (A1 vs B2) will play winner of (D1 vs C2), ==> \"winner 1\"\n",
    "<br><br>\n",
    "Winner of (B1 vs A2) will play winner of (C1 vs D2), ==> \"winner 2\"\n",
    "<br><br>\n",
    "Winner of (E1 vs F2) will play winner of (G1 vs H2), ==> \"winner 3\"\n",
    "<br><br>\n",
    "Winner of (F1 vs E2) will play winner of (H1 vs G2). ==> \"winner 4\""
   ]
  },
  {
   "cell_type": "code",
   "execution_count": 42,
   "metadata": {},
   "outputs": [
    {
     "name": "stdout",
     "output_type": "stream",
     "text": [
      "   United States vs Denmark,   winner: United States,   score: 1-0\n",
      "\n",
      "   Qatar vs Argentina,   winner: Argentina,   score: 0-2\n",
      "\n",
      "   Belgium vs Brazil,   winner: Brazil,   score: 0-4\n",
      "\n",
      "   Morocco vs Uruguay,   winner: Uruguay,   score: 0-3\n",
      "\n"
     ]
    },
    {
     "data": {
      "text/plain": [
       "['United States', 'Argentina', 'Brazil', 'Uruguay']"
      ]
     },
     "execution_count": 42,
     "metadata": {},
     "output_type": "execute_result"
    }
   ],
   "source": [
    "# Quarter Finals\n",
    "\n",
    "# top_8 is sorted by: winners of (A1,B2),(B1,A2),(C1,D2),(D1,C2),(E1,F2),(F1,E2),(G1,H2),(H1,G2)\n",
    "\n",
    "# If we take these winners as index 0 through 7,\n",
    "# based on the bracket, the matches in this round will be:\n",
    "# (0,3),(1,2),(4,6),(5,7)\n",
    "\n",
    "top_4 = []\n",
    "\n",
    "top_4=who_goes_up(top_8[0],top_8[3],top_4)\n",
    "top_4=who_goes_up(top_8[1],top_8[2],top_4)\n",
    "top_4=who_goes_up(top_8[4],top_8[6],top_4)\n",
    "top_4=who_goes_up(top_8[5],top_8[7],top_4)\n",
    "\n",
    "top_4"
   ]
  },
  {
   "cell_type": "markdown",
   "metadata": {},
   "source": [
    "### Semi Finals"
   ]
  },
  {
   "cell_type": "markdown",
   "metadata": {},
   "source": [
    "##### How the Semi Finals works:\n",
    "\n",
    "winner 1 will play winner 3,\n",
    "\n",
    "winner 2 will play winner 4"
   ]
  },
  {
   "cell_type": "code",
   "execution_count": 43,
   "metadata": {},
   "outputs": [
    {
     "name": "stdout",
     "output_type": "stream",
     "text": [
      "   United States vs Brazil,   winner: Brazil,   score: 1-5\n",
      "\n",
      "   Argentina vs Uruguay,   winner: Argentina,   score: 5-0\n",
      "\n",
      "Brazil and Argentina advance to the finals!\n",
      "United States and Uruguay play for third place.\n"
     ]
    }
   ],
   "source": [
    "# Semi-Finals\n",
    "\n",
    "finals=[]\n",
    "runner_ups=[]\n",
    "\n",
    "finals=who_goes_up(top_4[0],top_4[2],finals)\n",
    "finals=who_goes_up(top_4[1],top_4[3],finals)\n",
    "\n",
    "for i in top_4:\n",
    "    if (i not in finals):\n",
    "        runner_ups.append(i)\n",
    "        \n",
    "print(\"%s and %s advance to the finals!\" %(finals[0],finals[1]))\n",
    "print(\"%s and %s play for third place.\" %(runner_ups[0],runner_ups[1]))"
   ]
  },
  {
   "cell_type": "markdown",
   "metadata": {},
   "source": [
    "### Third Place Match\n",
    "\n",
    "##### How the Third Place Match works:\n",
    "Losers of Semi-finals face off for a consolation game and winner places 3rd."
   ]
  },
  {
   "cell_type": "code",
   "execution_count": 44,
   "metadata": {},
   "outputs": [
    {
     "name": "stdout",
     "output_type": "stream",
     "text": [
      "   United States vs Uruguay,   match went to penalty,   winner: United States\n",
      "\n",
      "United States is placed third!\n"
     ]
    }
   ],
   "source": [
    "# Third Place\n",
    "\n",
    "third=[]\n",
    "\n",
    "third=who_goes_up(runner_ups[0],runner_ups[1],third)\n",
    "\n",
    "print(\"%s is placed third!\" %third[0])"
   ]
  },
  {
   "cell_type": "markdown",
   "metadata": {},
   "source": [
    "### Finals"
   ]
  },
  {
   "cell_type": "code",
   "execution_count": 45,
   "metadata": {},
   "outputs": [
    {
     "name": "stdout",
     "output_type": "stream",
     "text": [
      "   Brazil vs Argentina,   match went to penalty,   winner: Brazil\n",
      "\n",
      "Argentina placed second.\n",
      "\n",
      "Brazil wins the world cup!\n"
     ]
    }
   ],
   "source": [
    "# Finals\n",
    "\n",
    "WINNER=[]\n",
    "\n",
    "WINNER=who_goes_up(finals[0],finals[1],WINNER)\n",
    "second=list(set(finals)-set(WINNER))\n",
    "\n",
    "print(\"%s placed second.\\n\" %second[0])\n",
    "print(\"%s wins the world cup!\" %WINNER[0])"
   ]
  },
  {
   "cell_type": "markdown",
   "metadata": {},
   "source": [
    "### Conclusion"
   ]
  },
  {
   "cell_type": "markdown",
   "metadata": {},
   "source": [
    "It is evident that our model makes some statistically rare predictions for this year’s world cup. However, as discussed earlier, the nature of what we are attempting to predict is difficult. Results in football matches are highly volatile do to numerous socio and environmental factors. Historically, team’s performances very greatly over the years that our data covered. Also, our current model does not take into consideration the weights of a stronger opponent vs. a weaker opponent. For example, England vs Germany will historically be a lower scoring game than England vs Qatar. Therefore, it will be difficult for our model to generalize well. A consideration would be to define a threshold and review more recent data, for instance that last 10 or 15 years. "
   ]
  },
  {
   "cell_type": "code",
   "execution_count": null,
   "metadata": {},
   "outputs": [],
   "source": []
  }
 ],
 "metadata": {
  "kernelspec": {
   "display_name": "Python 3",
   "language": "python",
   "name": "python3"
  },
  "language_info": {
   "codemirror_mode": {
    "name": "ipython",
    "version": 3
   },
   "file_extension": ".py",
   "mimetype": "text/x-python",
   "name": "python",
   "nbconvert_exporter": "python",
   "pygments_lexer": "ipython3",
   "version": "3.8.5"
  }
 },
 "nbformat": 4,
 "nbformat_minor": 5
}
