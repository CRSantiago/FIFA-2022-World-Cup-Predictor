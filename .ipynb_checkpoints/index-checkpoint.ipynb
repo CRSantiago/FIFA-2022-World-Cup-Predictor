{
 "cells": [
  {
   "cell_type": "markdown",
   "metadata": {},
   "source": [
    "## Final Project - FIFA 2022 World Cup Predictions"
   ]
  },
  {
   "cell_type": "markdown",
   "metadata": {},
   "source": [
    "#### Introduction\n",
    "- Discuss the datasets we choose and why we chose them.\n",
    "- Discuss what we intend on achieving through our data exploration\n",
    "- Discuss initial data preperation and cleaning"
   ]
  },
  {
   "cell_type": "markdown",
   "metadata": {},
   "source": [
    "Create dataframes using \"WorldCupMatches.csv\" and \"WorldCups.cvs\".\n",
    "\n",
    "Go over standard methods such as head, describe, info. What does our data look like?\n",
    "\n",
    "Matches contains a lot of Nan values, do we omit them? How does that effect our model perforamce?"
   ]
  },
  {
   "cell_type": "markdown",
   "metadata": {},
   "source": [
    "### Exploratory Analysis"
   ]
  },
  {
   "cell_type": "markdown",
   "metadata": {},
   "source": [
    "Use examples from https://jovian.ai/crsantiago/zerotopandas-course-final-project to explore historical world cup data\n",
    "\n",
    "- What is the distribution of country placers? Has one country been dominate, or is the field spread out?\n",
    "- What about total trophies won?\n",
    "- We could also use attendance and predict whether we expect numbers to increase this year or not"
   ]
  },
  {
   "cell_type": "markdown",
   "metadata": {},
   "source": [
    "### Model Building"
   ]
  },
  {
   "cell_type": "markdown",
   "metadata": {},
   "source": [
    "Discuss how we found these datasets insufficient to make an accurate predict, which is what led us to use examples from https://github.com/maninka123/FIFA-2022-Predictions/blob/main/FIFA%202022.ipynb"
   ]
  },
  {
   "cell_type": "markdown",
   "metadata": {},
   "source": [
    "- Follow similar data analysis and cleaning, then use examples from section 3 from the notebook and beyond. \n",
    "- Discuss model validation, predictions, etc"
   ]
  },
  {
   "cell_type": "markdown",
   "metadata": {},
   "source": [
    "### Conclusion"
   ]
  },
  {
   "cell_type": "markdown",
   "metadata": {},
   "source": [
    "- Wrap up conclusions based on our findings. \n",
    "- Discuss challenges we experienced along the way."
   ]
  },
  {
   "cell_type": "code",
   "execution_count": null,
   "metadata": {},
   "outputs": [],
   "source": []
  }
 ],
 "metadata": {
  "kernelspec": {
   "display_name": "Python 3",
   "language": "python",
   "name": "python3"
  },
  "language_info": {
   "codemirror_mode": {
    "name": "ipython",
    "version": 3
   },
   "file_extension": ".py",
   "mimetype": "text/x-python",
   "name": "python",
   "nbconvert_exporter": "python",
   "pygments_lexer": "ipython3",
   "version": "3.8.5"
  }
 },
 "nbformat": 4,
 "nbformat_minor": 4
}
